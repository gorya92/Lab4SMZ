{
 "cells": [
  {
   "cell_type": "code",
   "execution_count": 1,
   "id": "60873917",
   "metadata": {},
   "outputs": [],
   "source": [
    "import numpy as np\n",
    "import math\n",
    "\n",
    "def upsample(input, size=None, scale_factor=None, align_corners=None, recompute_scale_factor=None):\n",
    "    def bilinear_interpolation(batch, channel, y, x):\n",
    "        height = batch.shape[1]\n",
    "        width = batch.shape[2]\n",
    "\n",
    "        x1 = max(min(math.floor(x), width - 1), 0)\n",
    "        y1 = max(min(math.floor(y), height - 1), 0)\n",
    "        x2 = max(min(math.ceil(x), width - 1), 0)\n",
    "        y2 = max(min(math.ceil(y), height - 1), 0)\n",
    "\n",
    "        a = float(batch[channel, y1, x1])\n",
    "        b = float(batch[channel, y2, x1])\n",
    "        c = float(batch[channel, y1, x2])\n",
    "        d = float(batch[channel, y2, x2])\n",
    "\n",
    "        dx = x - x1\n",
    "        dy = y - y1\n",
    "\n",
    "        new_pixel = a * (1 - dx) * (1 - dy)\n",
    "        new_pixel += b * dy * (1 - dx)\n",
    "        new_pixel += c * dx * (1 - dy)\n",
    "        new_pixel += d * dx * dy\n",
    "\n",
    "        return new_pixel\n",
    "\n",
    "    if isinstance(size, int):\n",
    "        size = (size, size)\n",
    "    elif isinstance(size, tuple) and len(size) == 1:\n",
    "        size = (size[0], size[0])\n",
    "\n",
    "    align_corners = True if align_corners is True else False\n",
    "    recompute_scale_factor = True if recompute_scale_factor is True else False\n",
    "\n",
    "    h_out, w_out = None, None\n",
    "    result = []\n",
    "\n",
    "    for batch in input:\n",
    "        channels, h_in, w_in = batch.shape\n",
    "\n",
    "        if recompute_scale_factor or h_out is None or w_out is None:\n",
    "            if size is not None and scale_factor is not None:\n",
    "                raise ValueError('one of size or scale_factor should be defined')\n",
    "            elif size is None and scale_factor is None:\n",
    "                raise ValueError('Size or scale factor should be specified!')\n",
    "            elif size is not None and recompute_scale_factor:\n",
    "                raise ValueError('recompute_scale_factor is not meaningful with an explicit size.')\n",
    "            elif len(batch.shape) != 3:\n",
    "                raise ValueError('Got {}D input, but bilinear mode needs 4D input'.format(len(batch.shape)))\n",
    "            elif size is not None and len(size) == 2:\n",
    "                h_out, w_out = size[0], size[1]\n",
    "            else:\n",
    "                h_out, w_out = math.floor(batch.shape[1] * scale_factor), math.floor(batch.shape[2] * scale_factor)\n",
    "\n",
    "        out = np.zeros((channels, h_out, w_out), float)\n",
    "\n",
    "        y_orig_center = (h_in - 1) / 2\n",
    "        x_orig_center = (w_in - 1) / 2\n",
    "\n",
    "        y_scaled_center = (h_out - 1) / 2\n",
    "        x_scaled_center = (w_out - 1) / 2\n",
    "\n",
    "        for c in range(channels):\n",
    "            for y in range(h_out):\n",
    "                for x in range(w_out):\n",
    "                    if align_corners:\n",
    "                        x_ = max(1, w_in - 1) / max(1, w_out - 1) * x\n",
    "                        y_ = max(1, h_in - 1) / max(1, h_out - 1) * y\n",
    "                    else:\n",
    "                        x_ = (x - x_scaled_center) / scale_factor + x_orig_center\n",
    "                        y_ = (y - y_scaled_center) / scale_factor + y_orig_center\n",
    "\n",
    "                    out[c, y, x] = bilinear_interpolation(batch, c, y_, x_)\n",
    "\n",
    "        result.append(out)\n",
    "\n",
    "    return result"
   ]
  },
  {
   "cell_type": "code",
   "execution_count": 5,
   "id": "bd573e33",
   "metadata": {
    "scrolled": true
   },
   "outputs": [
    {
     "name": "stdout",
     "output_type": "stream",
     "text": [
      "[array([[[1. , 1.2, 1.4, 1.6, 1.8, 2. ],\n",
      "        [1.4, 1.6, 1.8, 2. , 2.2, 2.4],\n",
      "        [1.8, 2. , 2.2, 2.4, 2.6, 2.8],\n",
      "        [2.2, 2.4, 2.6, 2.8, 3. , 3.2],\n",
      "        [2.6, 2.8, 3. , 3.2, 3.4, 3.6],\n",
      "        [3. , 3.2, 3.4, 3.6, 3.8, 4. ]]])]\n"
     ]
    }
   ],
   "source": [
    "test_input = np.array([[[1, 2], [3, 4]]], dtype=float)\n",
    "\n",
    "result = upsample([test_input], scale_factor=3, align_corners=True, recompute_scale_factor=False)\n",
    "\n",
    "print(result)"
   ]
  },
  {
   "cell_type": "code",
   "execution_count": 6,
   "id": "bd517a29",
   "metadata": {},
   "outputs": [],
   "source": [
    "import unittest\n",
    "import numpy as np\n",
    "from numpy.testing import assert_array_almost_equal\n",
    "\n",
    "class UpsampleTests(unittest.TestCase):\n",
    "    def test_upsample_scale_factor_2_align_corners(self):\n",
    "        test_input = np.array([[[1, 2], [3, 4]]], dtype=float)\n",
    "        result = upsample([test_input], scale_factor=2, align_corners=True, recompute_scale_factor=False)\n",
    "        \n",
    "        expected_output = np.array([[[1., 1.33333333, 1.66666667, 2.],\n",
    "                                     [1.66666667, 2., 2.33333333, 2.66666667],\n",
    "                                     [2.33333333, 2.66666667, 3., 3.33333333],\n",
    "                                     [3., 3.33333333, 3.66666667, 4.]]])\n",
    "        \n",
    "        assert_array_almost_equal(result[0], expected_output)\n",
    "        \n",
    "    def test_upsample_scale_factor_3_align_corners(self):\n",
    "        test_input = np.array([[[1, 2], [3, 4]]], dtype=float)\n",
    "        result = upsample([test_input], scale_factor=3, align_corners=True, recompute_scale_factor=False)\n",
    "        \n",
    "        expected_output = np.array([[[1., 1.2, 1.4, 1.6, 1.8, 2.],\n",
    "                                     [1.4, 1.6, 1.8, 2., 2.2, 2.4],\n",
    "                                     [1.8, 2., 2.2, 2.4, 2.6, 2.8],\n",
    "                                     [2.2, 2.4, 2.6, 2.8, 3., 3.2],\n",
    "                                     [2.6, 2.8, 3., 3.2, 3.4, 3.6],\n",
    "                                     [3., 3.2, 3.4, 3.6, 3.8, 4.]]])\n",
    "        \n",
    "        assert_array_almost_equal(result[0], expected_output)"
   ]
  },
  {
   "cell_type": "code",
   "execution_count": 7,
   "id": "a300db84",
   "metadata": {},
   "outputs": [
    {
     "name": "stderr",
     "output_type": "stream",
     "text": [
      "..\n",
      "----------------------------------------------------------------------\n",
      "Ran 2 tests in 0.001s\n",
      "\n",
      "OK\n"
     ]
    },
    {
     "data": {
      "text/plain": [
       "<unittest.main.TestProgram at 0x179774f8880>"
      ]
     },
     "execution_count": 7,
     "metadata": {},
     "output_type": "execute_result"
    }
   ],
   "source": [
    "unittest.main(argv=[''], exit=False)"
   ]
  },
  {
   "cell_type": "code",
   "execution_count": null,
   "id": "f0420578",
   "metadata": {},
   "outputs": [],
   "source": []
  }
 ],
 "metadata": {
  "kernelspec": {
   "display_name": "Python 3 (ipykernel)",
   "language": "python",
   "name": "python3"
  },
  "language_info": {
   "codemirror_mode": {
    "name": "ipython",
    "version": 3
   },
   "file_extension": ".py",
   "mimetype": "text/x-python",
   "name": "python",
   "nbconvert_exporter": "python",
   "pygments_lexer": "ipython3",
   "version": "3.9.13"
  }
 },
 "nbformat": 4,
 "nbformat_minor": 5
}
